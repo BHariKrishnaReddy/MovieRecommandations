{
 "cells": [
  {
   "cell_type": "markdown",
   "id": "a1d5e519-f9ec-442f-8565-005bd989544c",
   "metadata": {},
   "source": []
  }
 ],
 "metadata": {
  "kernelspec": {
   "display_name": "STAT6970",
   "language": "python",
   "name": "stat6970"
  },
  "language_info": {
   "codemirror_mode": {
    "name": "ipython",
    "version": 3
   },
   "file_extension": ".py",
   "mimetype": "text/x-python",
   "name": "python",
   "nbconvert_exporter": "python",
   "pygments_lexer": "ipython3",
   "version": "3.11.8"
  }
 },
 "nbformat": 4,
 "nbformat_minor": 5
}
